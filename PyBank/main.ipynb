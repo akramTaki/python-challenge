{
 "cells": [
  {
   "cell_type": "code",
   "execution_count": 1,
   "id": "8ca4a4b4-3a66-40b7-87e7-cdc613a07b21",
   "metadata": {},
   "outputs": [],
   "source": [
    "# import libraires\n",
    "import csv"
   ]
  },
  {
   "cell_type": "code",
   "execution_count": 7,
   "id": "40a4f768-2a8a-4abc-ac48-338309452be1",
   "metadata": {},
   "outputs": [],
   "source": [
    "# set the file path\n",
    "filePath = \"./Resources/budget_data.csv\""
   ]
  },
  {
   "cell_type": "code",
   "execution_count": 8,
   "id": "5b417323-3ddf-4f87-8cc1-ce317cbef6a5",
   "metadata": {},
   "outputs": [],
   "source": [
    "# initialize variables\n",
    "number_of_months = 0\n",
    "net_total = 0.0\n",
    "total_change = 0.0\n",
    "avg_change = 0.0\n",
    "\n",
    "greatest_increase = 0\n",
    "greatest_increase_date = \"\"\n",
    "\n",
    "greatest_decrease = 0\n",
    "greatest_decrease_date = \"\"\n",
    "\n",
    "change_list = []"
   ]
  },
  {
   "cell_type": "code",
   "execution_count": 9,
   "id": "f5f8cb5a-ade3-45aa-b196-2669ef2ece7b",
   "metadata": {},
   "outputs": [],
   "source": [
    "# open the csv file\n",
    "with open(filePath, newline='') as csvfile:\n",
    "    fileReader = csv.reader(csvfile, delimiter=',') \n",
    "    next(fileReader) # skip the header\n",
    "    data = list(fileReader)"
   ]
  },
  {
   "cell_type": "code",
   "execution_count": 10,
   "id": "ba7e8356-f7a6-41c6-af49-7c89ad18ce64",
   "metadata": {},
   "outputs": [],
   "source": [
    "# calculate number of months\n",
    "number_of_months = len(data)"
   ]
  },
  {
   "cell_type": "code",
   "execution_count": 11,
   "id": "8e444017-eefc-4eb2-b678-d8ab9bc55709",
   "metadata": {},
   "outputs": [],
   "source": [
    "# loop through the data\n",
    "for i in range(len( data)):\n",
    "    price = float(data[i][1]) # parse the price to float\n",
    "    net_total += price # add the current price to the total\n",
    "    \n",
    "    # if it's the first iteration, \n",
    "    if i == 0:\n",
    "        prev_price = price\n",
    "    else:\n",
    "        prev_price = float(data[i-1][1])\n",
    "        \n",
    "    # calculate the change\n",
    "    change = price - prev_price\n",
    "    \n",
    "    # check for increase / decrease\n",
    "    if change > greatest_increase:\n",
    "        greatest_increase = change\n",
    "        greatest_increase_date = data[i][0]\n",
    "    elif change < greatest_decrease:\n",
    "        greatest_decrease = change\n",
    "        greatest_decrease_date = data[i][0]\n",
    "\n",
    "    # save the change to in the change_list\n",
    "    change_list.append(change)"
   ]
  },
  {
   "cell_type": "code",
   "execution_count": 17,
   "id": "249b8562-988c-42d3-9efe-2fdc25f094ab",
   "metadata": {},
   "outputs": [],
   "source": [
    "# remove the first element of the change list as it's 0\n",
    "change_list.pop(0)\n",
    "# calculate the average change\n",
    "avg_change = sum(change_list) / len(change_list) \n",
    "avg_change = round(avg_change, 2)"
   ]
  },
  {
   "cell_type": "code",
   "execution_count": 20,
   "id": "2bdfa61b-8024-453f-aefd-9d765c098cf5",
   "metadata": {},
   "outputs": [
    {
     "name": "stdout",
     "output_type": "stream",
     "text": [
      "Number of months : 86\n",
      "Total : 38382578.0\n",
      "Average change : $-3732.81\n",
      "Greatest increase : $1926159.0\n",
      "Greatest increase date : Feb-2012\n",
      "Greatest decrease : $-2196167.0\n",
      "Greatest decrease date : Sep-2013\n"
     ]
    }
   ],
   "source": [
    "# print the results to the console\n",
    "print(f\"Number of months : {number_of_months}\")\n",
    "print(f\"Total : {net_total}\")\n",
    "print(f\"Average change : ${avg_change}\")\n",
    "print(f\"Greatest increase : ${greatest_increase}\")\n",
    "print(f\"Greatest increase date : {greatest_increase_date}\")\n",
    "print(f\"Greatest decrease : ${greatest_decrease}\")\n",
    "print(f\"Greatest decrease date : {greatest_decrease_date}\")"
   ]
  },
  {
   "cell_type": "code",
   "execution_count": 14,
   "id": "b51efbe6-c127-4eee-bedf-548eb21d6cf1",
   "metadata": {},
   "outputs": [],
   "source": [
    "# Write the data to a textle\n",
    "with open('result.txt', 'w') as f:\n",
    "    f.write('Result\\n\\r')\n",
    "\n",
    "    # write the data\n",
    "    f.write(f\"The total number of months included in the dataset : {number_of_months}\\n\")\n",
    "    f.write(f\"The net total amount of Profit/Losses over the entire period : ${net_total}\\n\")\n",
    "    f.write(f\"The average of the changes in Profit/Losses over the entire period : ${'{:.2f}'.format(avg_change)}\\n\")\n",
    "    f.write(f\"The greatest increase in profits (date and amount) over the entire period : ${greatest_increase} on {greatest_increase_date}\\n\")\n",
    "    f.write(f\"The greatest decrease in profits (date and amount) over the entire period : ${greatest_decrease} on {greatest_decrease_date}\\n\")"
   ]
  },
  {
   "cell_type": "code",
   "execution_count": null,
   "id": "78b28efc-48d4-4f4c-a182-3f2b1048eeae",
   "metadata": {},
   "outputs": [],
   "source": []
  }
 ],
 "metadata": {
  "kernelspec": {
   "display_name": "Python 3 (ipykernel)",
   "language": "python",
   "name": "python3"
  },
  "language_info": {
   "codemirror_mode": {
    "name": "ipython",
    "version": 3
   },
   "file_extension": ".py",
   "mimetype": "text/x-python",
   "name": "python",
   "nbconvert_exporter": "python",
   "pygments_lexer": "ipython3",
   "version": "3.9.7"
  }
 },
 "nbformat": 4,
 "nbformat_minor": 5
}
